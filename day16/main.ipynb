{
 "cells": [
  {
   "attachments": {},
   "cell_type": "markdown",
   "metadata": {},
   "source": [
    "# Day 16"
   ]
  },
  {
   "attachments": {},
   "cell_type": "markdown",
   "metadata": {},
   "source": [
    "## Part 1"
   ]
  },
  {
   "cell_type": "code",
   "execution_count": 9,
   "metadata": {},
   "outputs": [],
   "source": [
    "import pandas as pd\n",
    "import numpy as np"
   ]
  },
  {
   "cell_type": "code",
   "execution_count": 20,
   "metadata": {},
   "outputs": [
    {
     "name": "stdout",
     "output_type": "stream",
     "text": [
      "7623\n"
     ]
    }
   ],
   "source": [
    "lines = open('input.txt', 'r').readlines()\n",
    "df = pd.DataFrame([[*x.strip()] for x in lines])\n",
    "\n",
    "\n",
    "def is_out_of_bounds(beam):\n",
    "    return beam['position'][1] < 0 or beam['position'][1] >= df.shape[0] or \\\n",
    "        beam['position'][0] < 0 or beam['position'][0] >= df.shape[1]\n",
    "\n",
    "def get_number_of_energized(initial_beam):\n",
    "    open_beams = [initial_beam]\n",
    "    visited = set()\n",
    "    energized = pd.DataFrame(np.zeros(df.shape))\n",
    "\n",
    "    while(len(open_beams) > 0):\n",
    "        current_beam = open_beams.pop()\n",
    "        \n",
    "        visited_entry = (current_beam['position'], current_beam['direction'])\n",
    "        # ignore loops\n",
    "        if visited_entry in visited:\n",
    "            continue\n",
    "        \n",
    "        visited.add(visited_entry)\n",
    "        \n",
    "        # out of bounds beams get destroyed\n",
    "        if is_out_of_bounds(current_beam):\n",
    "            continue\n",
    "\n",
    "        energized.iloc[current_beam['position'][1], current_beam['position'][0]] = 1\n",
    "\n",
    "        match df.iloc[current_beam['position'][1], current_beam['position'][0]]:\n",
    "            case '.':\n",
    "                open_beams.append({ \\\n",
    "                    'position': ( \\\n",
    "                        current_beam['position'][0] + current_beam['direction'][0], \\\n",
    "                        current_beam['position'][1] + current_beam['direction'][1], \\\n",
    "                    ), \\\n",
    "                    'direction': current_beam['direction'] \\\n",
    "                })\n",
    "            case '/':\n",
    "                new_direction = (-current_beam['direction'][1], -current_beam['direction'][0]) \n",
    "                open_beams.append({ \\\n",
    "                    'position': ( \\\n",
    "                        current_beam['position'][0] + new_direction[0], \\\n",
    "                        current_beam['position'][1] + new_direction[1], \\\n",
    "                    ), \\\n",
    "                    'direction': new_direction \\\n",
    "                })\n",
    "            case '\\\\':\n",
    "                new_direction = (current_beam['direction'][1], current_beam['direction'][0]) \n",
    "                open_beams.append({ \\\n",
    "                    'position': ( \\\n",
    "                        current_beam['position'][0] + new_direction[0], \\\n",
    "                        current_beam['position'][1] + new_direction[1], \\\n",
    "                    ), \\\n",
    "                    'direction': new_direction \\\n",
    "                })\n",
    "            case '|':\n",
    "                if current_beam['direction'][0] == 0:\n",
    "                    open_beams.append({ \\\n",
    "                        'position': ( \\\n",
    "                            current_beam['position'][0] + current_beam['direction'][0], \\\n",
    "                            current_beam['position'][1] + current_beam['direction'][1], \\\n",
    "                        ), \\\n",
    "                        'direction': current_beam['direction'] \\\n",
    "                    })\n",
    "                else:\n",
    "                    new_direction = (0, 1)\n",
    "                    open_beams.append({ \\\n",
    "                        'position': ( \\\n",
    "                            current_beam['position'][0] + new_direction[0], \\\n",
    "                            current_beam['position'][1] + new_direction[1], \\\n",
    "                        ), \\\n",
    "                        'direction': new_direction \\\n",
    "                    })\n",
    "                    new_direction = (0, -1)\n",
    "                    open_beams.append({ \\\n",
    "                        'position': ( \\\n",
    "                            current_beam['position'][0] + new_direction[0], \\\n",
    "                            current_beam['position'][1] + new_direction[1], \\\n",
    "                        ), \\\n",
    "                        'direction': new_direction \\\n",
    "                    })\n",
    "            case '-':\n",
    "                if current_beam['direction'][1] == 0:\n",
    "                    open_beams.append({ \\\n",
    "                    'position': ( \\\n",
    "                            current_beam['position'][0] + current_beam['direction'][0], \\\n",
    "                            current_beam['position'][1] + current_beam['direction'][1], \\\n",
    "                        ), \\\n",
    "                        'direction': current_beam['direction'] \\\n",
    "                    })\n",
    "                else:\n",
    "                    new_direction = (1, 0)\n",
    "                    open_beams.append({ \\\n",
    "                        'position': ( \\\n",
    "                            current_beam['position'][0] + new_direction[0], \\\n",
    "                            current_beam['position'][1] + new_direction[1], \\\n",
    "                        ), \\\n",
    "                        'direction': new_direction \\\n",
    "                    })\n",
    "                    new_direction = (-1, 0)\n",
    "                    open_beams.append({ \\\n",
    "                        'position': ( \\\n",
    "                            current_beam['position'][0] + new_direction[0], \\\n",
    "                            current_beam['position'][1] + new_direction[1], \\\n",
    "                        ), \\\n",
    "                        'direction': new_direction \\\n",
    "                    })\n",
    "    return int(energized.to_numpy().sum())\n",
    "\n",
    "print(get_number_of_energized({ 'position': (0, 0), 'direction': (1, 0) }))"
   ]
  },
  {
   "attachments": {},
   "cell_type": "markdown",
   "metadata": {},
   "source": [
    "## Part 2"
   ]
  },
  {
   "attachments": {},
   "cell_type": "markdown",
   "metadata": {},
   "source": [
    "Could improve by caching energization of newly emerging beams and just binary OR them all together (in general energization could just be a bit sequence).\n",
    "\n",
    "However, a runtime of 4m 20s is good enough."
   ]
  },
  {
   "cell_type": "code",
   "execution_count": 21,
   "metadata": {},
   "outputs": [
    {
     "name": "stdout",
     "output_type": "stream",
     "text": [
      "8244\n"
     ]
    }
   ],
   "source": [
    "options = []\n",
    "\n",
    "for i in range(df.shape[0]):\n",
    "    options.append(get_number_of_energized({ 'position': (0, i), 'direction': (1, 0) }))\n",
    "    options.append(get_number_of_energized({ 'position': (df.shape[1] - 1, i), 'direction': (-1, 0) }))\n",
    "\n",
    "for i in range(df.shape[1]):\n",
    "    options.append(get_number_of_energized({ 'position': (i, 0), 'direction': (0, 1) }))\n",
    "    options.append(get_number_of_energized({ 'position': (i, df.shape[0] - 1), 'direction': (0, -1) }))\n",
    "\n",
    "print(max(options))"
   ]
  }
 ],
 "metadata": {
  "kernelspec": {
   "display_name": "Python 3",
   "language": "python",
   "name": "python3"
  },
  "language_info": {
   "codemirror_mode": {
    "name": "ipython",
    "version": 3
   },
   "file_extension": ".py",
   "mimetype": "text/x-python",
   "name": "python",
   "nbconvert_exporter": "python",
   "pygments_lexer": "ipython3",
   "version": "3.11.5"
  },
  "orig_nbformat": 4,
  "vscode": {
   "interpreter": {
    "hash": "767d51c1340bd893661ea55ea3124f6de3c7a262a8b4abca0554b478b1e2ff90"
   }
  }
 },
 "nbformat": 4,
 "nbformat_minor": 2
}
