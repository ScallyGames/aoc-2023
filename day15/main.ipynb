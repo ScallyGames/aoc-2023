{
 "cells": [
  {
   "attachments": {},
   "cell_type": "markdown",
   "metadata": {},
   "source": [
    "# Day 15"
   ]
  },
  {
   "cell_type": "code",
   "execution_count": 23,
   "metadata": {},
   "outputs": [],
   "source": [
    "def get_hash(input):\n",
    "    result = 0\n",
    "    for c in [*input]:\n",
    "        result += ord(c)\n",
    "        result *= 17\n",
    "        result %= 256\n",
    "    return result"
   ]
  },
  {
   "attachments": {},
   "cell_type": "markdown",
   "metadata": {},
   "source": [
    "## Part 1"
   ]
  },
  {
   "cell_type": "code",
   "execution_count": 24,
   "metadata": {},
   "outputs": [
    {
     "name": "stdout",
     "output_type": "stream",
     "text": [
      "504449\n"
     ]
    }
   ],
   "source": [
    "instructions = open('input.txt', 'r').read().strip().split(',')\n",
    "\n",
    "\n",
    "result = sum([get_hash(x) for x in instructions])\n",
    "\n",
    "print(result)"
   ]
  },
  {
   "attachments": {},
   "cell_type": "markdown",
   "metadata": {},
   "source": [
    "## Part 2"
   ]
  },
  {
   "cell_type": "code",
   "execution_count": 25,
   "metadata": {},
   "outputs": [
    {
     "name": "stdout",
     "output_type": "stream",
     "text": [
      "262044\n"
     ]
    }
   ],
   "source": [
    "import re\n",
    "\n",
    "boxes = [dict() for x in range(256)]\n",
    "\n",
    "pattern = re.compile(\"([a-z]+)([-=])(\\d)?\")\n",
    "\n",
    "for instruction in instructions:\n",
    "    parts = pattern.match(instruction)\n",
    "    label = parts.group(1)\n",
    "    operation = parts.group(2)\n",
    "    lens = parts.group(3) and int(parts.group(3))\n",
    "\n",
    "    box = get_hash(label)\n",
    "    \n",
    "    match operation:\n",
    "        case '=':\n",
    "            boxes[box][label] = lens\n",
    "        case '-':\n",
    "            if label in boxes[box]:\n",
    "                del boxes[box][label]\n",
    "\n",
    "result = 0\n",
    "\n",
    "for box_index in range(len(boxes)):\n",
    "    box = boxes[box_index]\n",
    "    for lens_index in range(len(box.keys())):\n",
    "        focusing_power = (box_index + 1) * (lens_index + 1) * box[list(box.keys())[lens_index]]\n",
    "        result += focusing_power\n",
    "\n",
    "print(result)"
   ]
  }
 ],
 "metadata": {
  "kernelspec": {
   "display_name": "Python 3",
   "language": "python",
   "name": "python3"
  },
  "language_info": {
   "codemirror_mode": {
    "name": "ipython",
    "version": 3
   },
   "file_extension": ".py",
   "mimetype": "text/x-python",
   "name": "python",
   "nbconvert_exporter": "python",
   "pygments_lexer": "ipython3",
   "version": "3.11.5"
  },
  "orig_nbformat": 4,
  "vscode": {
   "interpreter": {
    "hash": "767d51c1340bd893661ea55ea3124f6de3c7a262a8b4abca0554b478b1e2ff90"
   }
  }
 },
 "nbformat": 4,
 "nbformat_minor": 2
}
