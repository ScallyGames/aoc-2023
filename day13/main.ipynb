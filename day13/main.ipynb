{
 "cells": [
  {
   "attachments": {},
   "cell_type": "markdown",
   "metadata": {},
   "source": [
    "# Day 13"
   ]
  },
  {
   "cell_type": "code",
   "execution_count": 1,
   "metadata": {},
   "outputs": [],
   "source": [
    "import pandas as pd\n",
    "\n",
    "data = open('input.txt', 'r').read()\n",
    "blocks = data.split('\\n\\n')"
   ]
  },
  {
   "cell_type": "code",
   "execution_count": 2,
   "metadata": {},
   "outputs": [],
   "source": [
    "def get_mirror_score(df, ignore=None, with_logging = False):\n",
    "    rows = df.shape[0]\n",
    "    for row in range(rows - 1):\n",
    "        if with_logging: print(f'Checking mirror for row {row}')\n",
    "        is_valid = True\n",
    "        for i in range(min(row + 1, rows - row - 1)):\n",
    "            if with_logging: print(f'Comparing {row - i} with {row + i + 1}')\n",
    "            if not (df.iloc[row - i] == df.iloc[row + i + 1]).all():\n",
    "                is_valid = False\n",
    "                break\n",
    "        if is_valid:\n",
    "            if with_logging: print(f'Row mirror in after row {row}')\n",
    "            score = 100 * (row + 1)\n",
    "            if score != ignore:\n",
    "                return score\n",
    "\n",
    "    # Transpose to get columns with same logic\n",
    "    df = df.T\n",
    "    columns = df.shape[0]\n",
    "    for column in range(columns - 1):\n",
    "        # print(f'Checking mirror for column {column}')\n",
    "        is_valid = True\n",
    "        for i in range(min(column + 1, columns - column - 1)):\n",
    "            if with_logging: print(f'Comparing {column - i} with {column + i + 1}')\n",
    "            if not (df.iloc[column - i] == df.iloc[column + i + 1]).all():\n",
    "                is_valid = False\n",
    "                break\n",
    "        if is_valid:\n",
    "            if with_logging: print(f'Column mirror in after column {column}')\n",
    "            score = (column + 1)\n",
    "            if score != ignore:\n",
    "                return score\n"
   ]
  },
  {
   "attachments": {},
   "cell_type": "markdown",
   "metadata": {},
   "source": [
    "## Part 1"
   ]
  },
  {
   "cell_type": "code",
   "execution_count": 3,
   "metadata": {},
   "outputs": [
    {
     "name": "stdout",
     "output_type": "stream",
     "text": [
      "Day 1: 37025\n"
     ]
    }
   ],
   "source": [
    "mirror_values = dict()\n",
    "\n",
    "result = 0\n",
    "\n",
    "for block in blocks:\n",
    "    lines = block.strip().split('\\n')\n",
    "    df = pd.DataFrame([[*x] for x in lines])\n",
    "    score = get_mirror_score(df)\n",
    "    mirror_values[block] = score\n",
    "    result += score\n",
    "\n",
    "print(f'Day 1: {result}')"
   ]
  },
  {
   "attachments": {},
   "cell_type": "markdown",
   "metadata": {},
   "source": [
    "## Part 2"
   ]
  },
  {
   "cell_type": "code",
   "execution_count": 4,
   "metadata": {},
   "outputs": [
    {
     "name": "stdout",
     "output_type": "stream",
     "text": [
      "Day 2: 32854\n"
     ]
    }
   ],
   "source": [
    "result = 0\n",
    "\n",
    "def get_score_with_smudge(block, df):\n",
    "    lines = block.strip().split('\\n')\n",
    "    for y in range(df.shape[0]):\n",
    "        for x in range(df.shape[1]):\n",
    "            attempt = df.copy()\n",
    "            # flip single value\n",
    "            attempt.iloc[y, x] = '.' if attempt.iloc[y, x] == '#' else '#'\n",
    "            # attempt score\n",
    "            score = get_mirror_score(attempt, ignore=mirror_values[block])\n",
    "            if score != None:\n",
    "                return score\n",
    "                \n",
    "\n",
    "for block in blocks:\n",
    "    lines = block.strip().split('\\n')\n",
    "    df = pd.DataFrame([[*x] for x in lines])\n",
    "    score = get_score_with_smudge(block, df)\n",
    "    result += score\n",
    "\n",
    "print(f'Day 2: {result}')\n"
   ]
  }
 ],
 "metadata": {
  "kernelspec": {
   "display_name": "Python 3",
   "language": "python",
   "name": "python3"
  },
  "language_info": {
   "codemirror_mode": {
    "name": "ipython",
    "version": 3
   },
   "file_extension": ".py",
   "mimetype": "text/x-python",
   "name": "python",
   "nbconvert_exporter": "python",
   "pygments_lexer": "ipython3",
   "version": "3.11.5"
  },
  "orig_nbformat": 4,
  "vscode": {
   "interpreter": {
    "hash": "767d51c1340bd893661ea55ea3124f6de3c7a262a8b4abca0554b478b1e2ff90"
   }
  }
 },
 "nbformat": 4,
 "nbformat_minor": 2
}
